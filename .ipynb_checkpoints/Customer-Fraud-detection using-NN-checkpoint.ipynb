{
 "cells": [
  {
   "cell_type": "code",
   "execution_count": 1,
   "id": "bcfee9dd",
   "metadata": {},
   "outputs": [],
   "source": [
    "import pandas as pd\n",
    "import numpy as np\n",
    "import seaborn as sns\n",
    "import matplotlib.pyplot as plt"
   ]
  },
  {
   "cell_type": "code",
   "execution_count": 2,
   "id": "38d1d9d0",
   "metadata": {},
   "outputs": [],
   "source": [
    "from sklearn.model_selection import cross_val_score,train_test_split\n",
    "from imblearn.over_sampling import RandomOverSampler\n",
    "from sklearn.preprocessing import StandardScaler\n",
    "from sklearn.metrics import accuracy_score\n",
    "from tensorflow.keras.models import Sequential\n",
    "from tensorflow.keras.layers import Dense, Dropout\n",
    "from tensorflow.keras.optimizers import Adam\n"
   ]
  },
  {
   "cell_type": "markdown",
   "id": "8fef863d",
   "metadata": {},
   "source": [
    "# Loading datasets"
   ]
  },
  {
   "cell_type": "code",
   "execution_count": 3,
   "id": "9b6fc851",
   "metadata": {},
   "outputs": [],
   "source": [
    "transaction_details = pd.read_csv('ecommerce_fraud_detection_dataset/customer_transaction_details.csv')\n",
    "customer_df = pd.read_csv('ecommerce_fraud_detection_dataset/customers_df.csv')"
   ]
  },
  {
   "cell_type": "code",
   "execution_count": 4,
   "id": "74b214df",
   "metadata": {},
   "outputs": [
    {
     "name": "stdout",
     "output_type": "stream",
     "text": [
      "(623, 11)\n",
      "(168, 10)\n"
     ]
    }
   ],
   "source": [
    "print(transaction_details.shape)\n",
    "print(customer_df.shape)"
   ]
  },
  {
   "cell_type": "code",
   "execution_count": 5,
   "id": "2589ee09",
   "metadata": {},
   "outputs": [
    {
     "name": "stdout",
     "output_type": "stream",
     "text": [
      "<class 'pandas.core.frame.DataFrame'>\n",
      "RangeIndex: 623 entries, 0 to 622\n",
      "Data columns (total 11 columns):\n",
      " #   Column                            Non-Null Count  Dtype \n",
      "---  ------                            --------------  ----- \n",
      " 0   Unnamed: 0                        623 non-null    int64 \n",
      " 1   customerEmail                     623 non-null    object\n",
      " 2   transactionId                     623 non-null    object\n",
      " 3   orderId                           623 non-null    object\n",
      " 4   paymentMethodId                   623 non-null    object\n",
      " 5   paymentMethodRegistrationFailure  623 non-null    int64 \n",
      " 6   paymentMethodType                 623 non-null    object\n",
      " 7   paymentMethodProvider             623 non-null    object\n",
      " 8   transactionAmount                 623 non-null    int64 \n",
      " 9   transactionFailed                 623 non-null    int64 \n",
      " 10  orderState                        623 non-null    object\n",
      "dtypes: int64(4), object(7)\n",
      "memory usage: 53.7+ KB\n",
      "None\n"
     ]
    }
   ],
   "source": [
    "print(transaction_details.info())\n"
   ]
  },
  {
   "cell_type": "code",
   "execution_count": 6,
   "id": "0503c279",
   "metadata": {},
   "outputs": [
    {
     "name": "stdout",
     "output_type": "stream",
     "text": [
      "<class 'pandas.core.frame.DataFrame'>\n",
      "RangeIndex: 168 entries, 0 to 167\n",
      "Data columns (total 10 columns):\n",
      " #   Column                  Non-Null Count  Dtype \n",
      "---  ------                  --------------  ----- \n",
      " 0   Unnamed: 0              168 non-null    int64 \n",
      " 1   customerEmail           168 non-null    object\n",
      " 2   customerPhone           168 non-null    object\n",
      " 3   customerDevice          168 non-null    object\n",
      " 4   customerIPAddress       168 non-null    object\n",
      " 5   customerBillingAddress  168 non-null    object\n",
      " 6   No_Transactions         168 non-null    int64 \n",
      " 7   No_Orders               168 non-null    int64 \n",
      " 8   No_Payments             168 non-null    int64 \n",
      " 9   Fraud                   168 non-null    bool  \n",
      "dtypes: bool(1), int64(4), object(5)\n",
      "memory usage: 12.1+ KB\n",
      "None\n"
     ]
    }
   ],
   "source": [
    "print(customer_df.info())"
   ]
  },
  {
   "cell_type": "code",
   "execution_count": 7,
   "id": "14a63fcb",
   "metadata": {},
   "outputs": [
    {
     "data": {
      "text/html": [
       "<div>\n",
       "<style scoped>\n",
       "    .dataframe tbody tr th:only-of-type {\n",
       "        vertical-align: middle;\n",
       "    }\n",
       "\n",
       "    .dataframe tbody tr th {\n",
       "        vertical-align: top;\n",
       "    }\n",
       "\n",
       "    .dataframe thead th {\n",
       "        text-align: right;\n",
       "    }\n",
       "</style>\n",
       "<table border=\"1\" class=\"dataframe\">\n",
       "  <thead>\n",
       "    <tr style=\"text-align: right;\">\n",
       "      <th></th>\n",
       "      <th>Unnamed: 0</th>\n",
       "      <th>paymentMethodRegistrationFailure</th>\n",
       "      <th>transactionAmount</th>\n",
       "      <th>transactionFailed</th>\n",
       "    </tr>\n",
       "  </thead>\n",
       "  <tbody>\n",
       "    <tr>\n",
       "      <th>count</th>\n",
       "      <td>623.000000</td>\n",
       "      <td>623.000000</td>\n",
       "      <td>623.000000</td>\n",
       "      <td>623.000000</td>\n",
       "    </tr>\n",
       "    <tr>\n",
       "      <th>mean</th>\n",
       "      <td>311.000000</td>\n",
       "      <td>0.131621</td>\n",
       "      <td>34.598716</td>\n",
       "      <td>0.269663</td>\n",
       "    </tr>\n",
       "    <tr>\n",
       "      <th>std</th>\n",
       "      <td>179.988889</td>\n",
       "      <td>0.338350</td>\n",
       "      <td>20.360247</td>\n",
       "      <td>0.444141</td>\n",
       "    </tr>\n",
       "    <tr>\n",
       "      <th>min</th>\n",
       "      <td>0.000000</td>\n",
       "      <td>0.000000</td>\n",
       "      <td>10.000000</td>\n",
       "      <td>0.000000</td>\n",
       "    </tr>\n",
       "    <tr>\n",
       "      <th>25%</th>\n",
       "      <td>155.500000</td>\n",
       "      <td>0.000000</td>\n",
       "      <td>21.000000</td>\n",
       "      <td>0.000000</td>\n",
       "    </tr>\n",
       "    <tr>\n",
       "      <th>50%</th>\n",
       "      <td>311.000000</td>\n",
       "      <td>0.000000</td>\n",
       "      <td>34.000000</td>\n",
       "      <td>0.000000</td>\n",
       "    </tr>\n",
       "    <tr>\n",
       "      <th>75%</th>\n",
       "      <td>466.500000</td>\n",
       "      <td>0.000000</td>\n",
       "      <td>45.000000</td>\n",
       "      <td>1.000000</td>\n",
       "    </tr>\n",
       "    <tr>\n",
       "      <th>max</th>\n",
       "      <td>622.000000</td>\n",
       "      <td>1.000000</td>\n",
       "      <td>353.000000</td>\n",
       "      <td>1.000000</td>\n",
       "    </tr>\n",
       "  </tbody>\n",
       "</table>\n",
       "</div>"
      ],
      "text/plain": [
       "       Unnamed: 0  paymentMethodRegistrationFailure  transactionAmount  \\\n",
       "count  623.000000                        623.000000         623.000000   \n",
       "mean   311.000000                          0.131621          34.598716   \n",
       "std    179.988889                          0.338350          20.360247   \n",
       "min      0.000000                          0.000000          10.000000   \n",
       "25%    155.500000                          0.000000          21.000000   \n",
       "50%    311.000000                          0.000000          34.000000   \n",
       "75%    466.500000                          0.000000          45.000000   \n",
       "max    622.000000                          1.000000         353.000000   \n",
       "\n",
       "       transactionFailed  \n",
       "count         623.000000  \n",
       "mean            0.269663  \n",
       "std             0.444141  \n",
       "min             0.000000  \n",
       "25%             0.000000  \n",
       "50%             0.000000  \n",
       "75%             1.000000  \n",
       "max             1.000000  "
      ]
     },
     "execution_count": 7,
     "metadata": {},
     "output_type": "execute_result"
    }
   ],
   "source": [
    "transaction_details.describe()"
   ]
  },
  {
   "cell_type": "code",
   "execution_count": 8,
   "id": "db7143ba",
   "metadata": {},
   "outputs": [
    {
     "data": {
      "text/html": [
       "<div>\n",
       "<style scoped>\n",
       "    .dataframe tbody tr th:only-of-type {\n",
       "        vertical-align: middle;\n",
       "    }\n",
       "\n",
       "    .dataframe tbody tr th {\n",
       "        vertical-align: top;\n",
       "    }\n",
       "\n",
       "    .dataframe thead th {\n",
       "        text-align: right;\n",
       "    }\n",
       "</style>\n",
       "<table border=\"1\" class=\"dataframe\">\n",
       "  <thead>\n",
       "    <tr style=\"text-align: right;\">\n",
       "      <th></th>\n",
       "      <th>Unnamed: 0</th>\n",
       "      <th>No_Transactions</th>\n",
       "      <th>No_Orders</th>\n",
       "      <th>No_Payments</th>\n",
       "    </tr>\n",
       "  </thead>\n",
       "  <tbody>\n",
       "    <tr>\n",
       "      <th>count</th>\n",
       "      <td>168.000000</td>\n",
       "      <td>168.000000</td>\n",
       "      <td>168.000000</td>\n",
       "      <td>168.000000</td>\n",
       "    </tr>\n",
       "    <tr>\n",
       "      <th>mean</th>\n",
       "      <td>83.500000</td>\n",
       "      <td>3.708333</td>\n",
       "      <td>2.845238</td>\n",
       "      <td>2.035714</td>\n",
       "    </tr>\n",
       "    <tr>\n",
       "      <th>std</th>\n",
       "      <td>48.641546</td>\n",
       "      <td>2.801527</td>\n",
       "      <td>1.981919</td>\n",
       "      <td>2.113240</td>\n",
       "    </tr>\n",
       "    <tr>\n",
       "      <th>min</th>\n",
       "      <td>0.000000</td>\n",
       "      <td>0.000000</td>\n",
       "      <td>0.000000</td>\n",
       "      <td>0.000000</td>\n",
       "    </tr>\n",
       "    <tr>\n",
       "      <th>25%</th>\n",
       "      <td>41.750000</td>\n",
       "      <td>1.000000</td>\n",
       "      <td>1.000000</td>\n",
       "      <td>1.000000</td>\n",
       "    </tr>\n",
       "    <tr>\n",
       "      <th>50%</th>\n",
       "      <td>83.500000</td>\n",
       "      <td>4.000000</td>\n",
       "      <td>3.000000</td>\n",
       "      <td>1.000000</td>\n",
       "    </tr>\n",
       "    <tr>\n",
       "      <th>75%</th>\n",
       "      <td>125.250000</td>\n",
       "      <td>5.000000</td>\n",
       "      <td>4.000000</td>\n",
       "      <td>2.000000</td>\n",
       "    </tr>\n",
       "    <tr>\n",
       "      <th>max</th>\n",
       "      <td>167.000000</td>\n",
       "      <td>15.000000</td>\n",
       "      <td>8.000000</td>\n",
       "      <td>15.000000</td>\n",
       "    </tr>\n",
       "  </tbody>\n",
       "</table>\n",
       "</div>"
      ],
      "text/plain": [
       "       Unnamed: 0  No_Transactions   No_Orders  No_Payments\n",
       "count  168.000000       168.000000  168.000000   168.000000\n",
       "mean    83.500000         3.708333    2.845238     2.035714\n",
       "std     48.641546         2.801527    1.981919     2.113240\n",
       "min      0.000000         0.000000    0.000000     0.000000\n",
       "25%     41.750000         1.000000    1.000000     1.000000\n",
       "50%     83.500000         4.000000    3.000000     1.000000\n",
       "75%    125.250000         5.000000    4.000000     2.000000\n",
       "max    167.000000        15.000000    8.000000    15.000000"
      ]
     },
     "execution_count": 8,
     "metadata": {},
     "output_type": "execute_result"
    }
   ],
   "source": [
    "customer_df.describe()"
   ]
  },
  {
   "cell_type": "code",
   "execution_count": 9,
   "id": "40a72fc3",
   "metadata": {},
   "outputs": [
    {
     "data": {
      "text/html": [
       "<div>\n",
       "<style scoped>\n",
       "    .dataframe tbody tr th:only-of-type {\n",
       "        vertical-align: middle;\n",
       "    }\n",
       "\n",
       "    .dataframe tbody tr th {\n",
       "        vertical-align: top;\n",
       "    }\n",
       "\n",
       "    .dataframe thead th {\n",
       "        text-align: right;\n",
       "    }\n",
       "</style>\n",
       "<table border=\"1\" class=\"dataframe\">\n",
       "  <thead>\n",
       "    <tr style=\"text-align: right;\">\n",
       "      <th></th>\n",
       "      <th>Unnamed: 0</th>\n",
       "      <th>customerEmail</th>\n",
       "      <th>transactionId</th>\n",
       "      <th>orderId</th>\n",
       "      <th>paymentMethodId</th>\n",
       "      <th>paymentMethodRegistrationFailure</th>\n",
       "      <th>paymentMethodType</th>\n",
       "      <th>paymentMethodProvider</th>\n",
       "      <th>transactionAmount</th>\n",
       "      <th>transactionFailed</th>\n",
       "      <th>orderState</th>\n",
       "    </tr>\n",
       "  </thead>\n",
       "  <tbody>\n",
       "    <tr>\n",
       "      <th>0</th>\n",
       "      <td>0</td>\n",
       "      <td>josephhoward@yahoo.com</td>\n",
       "      <td>a9lcj51r</td>\n",
       "      <td>vjbdvd</td>\n",
       "      <td>wt07xm68b</td>\n",
       "      <td>1</td>\n",
       "      <td>card</td>\n",
       "      <td>JCB 16 digit</td>\n",
       "      <td>18</td>\n",
       "      <td>0</td>\n",
       "      <td>pending</td>\n",
       "    </tr>\n",
       "    <tr>\n",
       "      <th>1</th>\n",
       "      <td>1</td>\n",
       "      <td>josephhoward@yahoo.com</td>\n",
       "      <td>y4wcv03i</td>\n",
       "      <td>yp6x27</td>\n",
       "      <td>wt07xm68b</td>\n",
       "      <td>1</td>\n",
       "      <td>card</td>\n",
       "      <td>JCB 16 digit</td>\n",
       "      <td>26</td>\n",
       "      <td>0</td>\n",
       "      <td>fulfilled</td>\n",
       "    </tr>\n",
       "    <tr>\n",
       "      <th>2</th>\n",
       "      <td>2</td>\n",
       "      <td>evansjeffery@yahoo.com</td>\n",
       "      <td>5mi94sfw</td>\n",
       "      <td>nlghpa</td>\n",
       "      <td>41ug157xz</td>\n",
       "      <td>0</td>\n",
       "      <td>bitcoin</td>\n",
       "      <td>American Express</td>\n",
       "      <td>45</td>\n",
       "      <td>0</td>\n",
       "      <td>fulfilled</td>\n",
       "    </tr>\n",
       "    <tr>\n",
       "      <th>3</th>\n",
       "      <td>3</td>\n",
       "      <td>evansjeffery@yahoo.com</td>\n",
       "      <td>br8ba1nu</td>\n",
       "      <td>uw0eeb</td>\n",
       "      <td>41ug157xz</td>\n",
       "      <td>0</td>\n",
       "      <td>bitcoin</td>\n",
       "      <td>American Express</td>\n",
       "      <td>23</td>\n",
       "      <td>0</td>\n",
       "      <td>fulfilled</td>\n",
       "    </tr>\n",
       "    <tr>\n",
       "      <th>4</th>\n",
       "      <td>4</td>\n",
       "      <td>evansjeffery@yahoo.com</td>\n",
       "      <td>a33145ss</td>\n",
       "      <td>bn44oh</td>\n",
       "      <td>y3xp697jx</td>\n",
       "      <td>1</td>\n",
       "      <td>bitcoin</td>\n",
       "      <td>VISA 16 digit</td>\n",
       "      <td>43</td>\n",
       "      <td>1</td>\n",
       "      <td>fulfilled</td>\n",
       "    </tr>\n",
       "  </tbody>\n",
       "</table>\n",
       "</div>"
      ],
      "text/plain": [
       "   Unnamed: 0           customerEmail transactionId orderId paymentMethodId  \\\n",
       "0           0  josephhoward@yahoo.com      a9lcj51r  vjbdvd       wt07xm68b   \n",
       "1           1  josephhoward@yahoo.com      y4wcv03i  yp6x27       wt07xm68b   \n",
       "2           2  evansjeffery@yahoo.com      5mi94sfw  nlghpa       41ug157xz   \n",
       "3           3  evansjeffery@yahoo.com      br8ba1nu  uw0eeb       41ug157xz   \n",
       "4           4  evansjeffery@yahoo.com      a33145ss  bn44oh       y3xp697jx   \n",
       "\n",
       "   paymentMethodRegistrationFailure paymentMethodType paymentMethodProvider  \\\n",
       "0                                 1              card          JCB 16 digit   \n",
       "1                                 1              card          JCB 16 digit   \n",
       "2                                 0           bitcoin      American Express   \n",
       "3                                 0           bitcoin      American Express   \n",
       "4                                 1           bitcoin         VISA 16 digit   \n",
       "\n",
       "   transactionAmount  transactionFailed orderState  \n",
       "0                 18                  0    pending  \n",
       "1                 26                  0  fulfilled  \n",
       "2                 45                  0  fulfilled  \n",
       "3                 23                  0  fulfilled  \n",
       "4                 43                  1  fulfilled  "
      ]
     },
     "execution_count": 9,
     "metadata": {},
     "output_type": "execute_result"
    }
   ],
   "source": [
    "transaction_details.head()"
   ]
  },
  {
   "cell_type": "code",
   "execution_count": 10,
   "id": "08002d5d",
   "metadata": {},
   "outputs": [
    {
     "data": {
      "text/html": [
       "<div>\n",
       "<style scoped>\n",
       "    .dataframe tbody tr th:only-of-type {\n",
       "        vertical-align: middle;\n",
       "    }\n",
       "\n",
       "    .dataframe tbody tr th {\n",
       "        vertical-align: top;\n",
       "    }\n",
       "\n",
       "    .dataframe thead th {\n",
       "        text-align: right;\n",
       "    }\n",
       "</style>\n",
       "<table border=\"1\" class=\"dataframe\">\n",
       "  <thead>\n",
       "    <tr style=\"text-align: right;\">\n",
       "      <th></th>\n",
       "      <th>Unnamed: 0</th>\n",
       "      <th>customerEmail</th>\n",
       "      <th>customerPhone</th>\n",
       "      <th>customerDevice</th>\n",
       "      <th>customerIPAddress</th>\n",
       "      <th>customerBillingAddress</th>\n",
       "      <th>No_Transactions</th>\n",
       "      <th>No_Orders</th>\n",
       "      <th>No_Payments</th>\n",
       "      <th>Fraud</th>\n",
       "    </tr>\n",
       "  </thead>\n",
       "  <tbody>\n",
       "    <tr>\n",
       "      <th>0</th>\n",
       "      <td>0</td>\n",
       "      <td>josephhoward@yahoo.com</td>\n",
       "      <td>400-108-5415</td>\n",
       "      <td>yyeiaxpltf82440jnb3v</td>\n",
       "      <td>8.129.104.40</td>\n",
       "      <td>5493 Jones Islands\\nBrownside, CA 51896</td>\n",
       "      <td>2</td>\n",
       "      <td>2</td>\n",
       "      <td>1</td>\n",
       "      <td>False</td>\n",
       "    </tr>\n",
       "    <tr>\n",
       "      <th>1</th>\n",
       "      <td>1</td>\n",
       "      <td>evansjeffery@yahoo.com</td>\n",
       "      <td>1-788-091-7546</td>\n",
       "      <td>r0jpm7xaeqqa3kr6mzum</td>\n",
       "      <td>219.173.211.202</td>\n",
       "      <td>356 Elizabeth Inlet Suite 120\\nPort Joshuabury...</td>\n",
       "      <td>3</td>\n",
       "      <td>3</td>\n",
       "      <td>7</td>\n",
       "      <td>True</td>\n",
       "    </tr>\n",
       "    <tr>\n",
       "      <th>2</th>\n",
       "      <td>2</td>\n",
       "      <td>andersonwilliam@yahoo.com</td>\n",
       "      <td>024.420.0375</td>\n",
       "      <td>4m7h5ipl1shyavt6vv2r</td>\n",
       "      <td>67b7:3db8:67e0:3bea:b9d0:90c1:2b60:b9f0</td>\n",
       "      <td>8478 Sean Ridges Apt. 441\\nDavisberg, PR 72250</td>\n",
       "      <td>5</td>\n",
       "      <td>3</td>\n",
       "      <td>2</td>\n",
       "      <td>False</td>\n",
       "    </tr>\n",
       "    <tr>\n",
       "      <th>3</th>\n",
       "      <td>3</td>\n",
       "      <td>rubenjuarez@yahoo.com</td>\n",
       "      <td>670.664.8168x94985</td>\n",
       "      <td>slovx60t0i558may4ks0</td>\n",
       "      <td>95de:8565:5a66:792c:26e0:6cfb:7d87:11af</td>\n",
       "      <td>7769 Elizabeth Bridge Apt. 343\\nNortonstad, FM...</td>\n",
       "      <td>3</td>\n",
       "      <td>3</td>\n",
       "      <td>1</td>\n",
       "      <td>False</td>\n",
       "    </tr>\n",
       "    <tr>\n",
       "      <th>4</th>\n",
       "      <td>4</td>\n",
       "      <td>uchen@malone.com</td>\n",
       "      <td>1-981-877-0870</td>\n",
       "      <td>j0pd24k5h8dl2fqu0cz4</td>\n",
       "      <td>196.89.235.192</td>\n",
       "      <td>148 Russell Lodge Apt. 445\\nPort Jenniferside,...</td>\n",
       "      <td>7</td>\n",
       "      <td>7</td>\n",
       "      <td>6</td>\n",
       "      <td>True</td>\n",
       "    </tr>\n",
       "  </tbody>\n",
       "</table>\n",
       "</div>"
      ],
      "text/plain": [
       "   Unnamed: 0              customerEmail       customerPhone  \\\n",
       "0           0     josephhoward@yahoo.com        400-108-5415   \n",
       "1           1     evansjeffery@yahoo.com      1-788-091-7546   \n",
       "2           2  andersonwilliam@yahoo.com        024.420.0375   \n",
       "3           3      rubenjuarez@yahoo.com  670.664.8168x94985   \n",
       "4           4           uchen@malone.com      1-981-877-0870   \n",
       "\n",
       "         customerDevice                        customerIPAddress  \\\n",
       "0  yyeiaxpltf82440jnb3v                             8.129.104.40   \n",
       "1  r0jpm7xaeqqa3kr6mzum                          219.173.211.202   \n",
       "2  4m7h5ipl1shyavt6vv2r  67b7:3db8:67e0:3bea:b9d0:90c1:2b60:b9f0   \n",
       "3  slovx60t0i558may4ks0  95de:8565:5a66:792c:26e0:6cfb:7d87:11af   \n",
       "4  j0pd24k5h8dl2fqu0cz4                           196.89.235.192   \n",
       "\n",
       "                              customerBillingAddress  No_Transactions  \\\n",
       "0            5493 Jones Islands\\nBrownside, CA 51896                2   \n",
       "1  356 Elizabeth Inlet Suite 120\\nPort Joshuabury...                3   \n",
       "2     8478 Sean Ridges Apt. 441\\nDavisberg, PR 72250                5   \n",
       "3  7769 Elizabeth Bridge Apt. 343\\nNortonstad, FM...                3   \n",
       "4  148 Russell Lodge Apt. 445\\nPort Jenniferside,...                7   \n",
       "\n",
       "   No_Orders  No_Payments  Fraud  \n",
       "0          2            1  False  \n",
       "1          3            7   True  \n",
       "2          3            2  False  \n",
       "3          3            1  False  \n",
       "4          7            6   True  "
      ]
     },
     "execution_count": 10,
     "metadata": {},
     "output_type": "execute_result"
    }
   ],
   "source": [
    "customer_df.head()"
   ]
  },
  {
   "cell_type": "code",
   "execution_count": 11,
   "id": "7d4824f6",
   "metadata": {},
   "outputs": [],
   "source": [
    "# Remove the unnamed column from both datasets\n",
    "transaction_details.drop(columns=['Unnamed: 0'], inplace=True)\n",
    "customer_df.drop(columns=['Unnamed: 0'], inplace=True)\n"
   ]
  },
  {
   "cell_type": "code",
   "execution_count": 12,
   "id": "c6cbe46b",
   "metadata": {},
   "outputs": [
    {
     "data": {
      "text/html": [
       "<div>\n",
       "<style scoped>\n",
       "    .dataframe tbody tr th:only-of-type {\n",
       "        vertical-align: middle;\n",
       "    }\n",
       "\n",
       "    .dataframe tbody tr th {\n",
       "        vertical-align: top;\n",
       "    }\n",
       "\n",
       "    .dataframe thead th {\n",
       "        text-align: right;\n",
       "    }\n",
       "</style>\n",
       "<table border=\"1\" class=\"dataframe\">\n",
       "  <thead>\n",
       "    <tr style=\"text-align: right;\">\n",
       "      <th></th>\n",
       "      <th>customerEmail</th>\n",
       "      <th>customerPhone</th>\n",
       "      <th>customerDevice</th>\n",
       "      <th>customerIPAddress</th>\n",
       "      <th>customerBillingAddress</th>\n",
       "      <th>No_Transactions</th>\n",
       "      <th>No_Orders</th>\n",
       "      <th>No_Payments</th>\n",
       "      <th>Fraud</th>\n",
       "    </tr>\n",
       "  </thead>\n",
       "  <tbody>\n",
       "    <tr>\n",
       "      <th>0</th>\n",
       "      <td>josephhoward@yahoo.com</td>\n",
       "      <td>400-108-5415</td>\n",
       "      <td>yyeiaxpltf82440jnb3v</td>\n",
       "      <td>8.129.104.40</td>\n",
       "      <td>5493 Jones Islands\\nBrownside, CA 51896</td>\n",
       "      <td>2</td>\n",
       "      <td>2</td>\n",
       "      <td>1</td>\n",
       "      <td>False</td>\n",
       "    </tr>\n",
       "    <tr>\n",
       "      <th>1</th>\n",
       "      <td>evansjeffery@yahoo.com</td>\n",
       "      <td>1-788-091-7546</td>\n",
       "      <td>r0jpm7xaeqqa3kr6mzum</td>\n",
       "      <td>219.173.211.202</td>\n",
       "      <td>356 Elizabeth Inlet Suite 120\\nPort Joshuabury...</td>\n",
       "      <td>3</td>\n",
       "      <td>3</td>\n",
       "      <td>7</td>\n",
       "      <td>True</td>\n",
       "    </tr>\n",
       "    <tr>\n",
       "      <th>2</th>\n",
       "      <td>andersonwilliam@yahoo.com</td>\n",
       "      <td>024.420.0375</td>\n",
       "      <td>4m7h5ipl1shyavt6vv2r</td>\n",
       "      <td>67b7:3db8:67e0:3bea:b9d0:90c1:2b60:b9f0</td>\n",
       "      <td>8478 Sean Ridges Apt. 441\\nDavisberg, PR 72250</td>\n",
       "      <td>5</td>\n",
       "      <td>3</td>\n",
       "      <td>2</td>\n",
       "      <td>False</td>\n",
       "    </tr>\n",
       "    <tr>\n",
       "      <th>3</th>\n",
       "      <td>rubenjuarez@yahoo.com</td>\n",
       "      <td>670.664.8168x94985</td>\n",
       "      <td>slovx60t0i558may4ks0</td>\n",
       "      <td>95de:8565:5a66:792c:26e0:6cfb:7d87:11af</td>\n",
       "      <td>7769 Elizabeth Bridge Apt. 343\\nNortonstad, FM...</td>\n",
       "      <td>3</td>\n",
       "      <td>3</td>\n",
       "      <td>1</td>\n",
       "      <td>False</td>\n",
       "    </tr>\n",
       "    <tr>\n",
       "      <th>4</th>\n",
       "      <td>uchen@malone.com</td>\n",
       "      <td>1-981-877-0870</td>\n",
       "      <td>j0pd24k5h8dl2fqu0cz4</td>\n",
       "      <td>196.89.235.192</td>\n",
       "      <td>148 Russell Lodge Apt. 445\\nPort Jenniferside,...</td>\n",
       "      <td>7</td>\n",
       "      <td>7</td>\n",
       "      <td>6</td>\n",
       "      <td>True</td>\n",
       "    </tr>\n",
       "  </tbody>\n",
       "</table>\n",
       "</div>"
      ],
      "text/plain": [
       "               customerEmail       customerPhone        customerDevice  \\\n",
       "0     josephhoward@yahoo.com        400-108-5415  yyeiaxpltf82440jnb3v   \n",
       "1     evansjeffery@yahoo.com      1-788-091-7546  r0jpm7xaeqqa3kr6mzum   \n",
       "2  andersonwilliam@yahoo.com        024.420.0375  4m7h5ipl1shyavt6vv2r   \n",
       "3      rubenjuarez@yahoo.com  670.664.8168x94985  slovx60t0i558may4ks0   \n",
       "4           uchen@malone.com      1-981-877-0870  j0pd24k5h8dl2fqu0cz4   \n",
       "\n",
       "                         customerIPAddress  \\\n",
       "0                             8.129.104.40   \n",
       "1                          219.173.211.202   \n",
       "2  67b7:3db8:67e0:3bea:b9d0:90c1:2b60:b9f0   \n",
       "3  95de:8565:5a66:792c:26e0:6cfb:7d87:11af   \n",
       "4                           196.89.235.192   \n",
       "\n",
       "                              customerBillingAddress  No_Transactions  \\\n",
       "0            5493 Jones Islands\\nBrownside, CA 51896                2   \n",
       "1  356 Elizabeth Inlet Suite 120\\nPort Joshuabury...                3   \n",
       "2     8478 Sean Ridges Apt. 441\\nDavisberg, PR 72250                5   \n",
       "3  7769 Elizabeth Bridge Apt. 343\\nNortonstad, FM...                3   \n",
       "4  148 Russell Lodge Apt. 445\\nPort Jenniferside,...                7   \n",
       "\n",
       "   No_Orders  No_Payments  Fraud  \n",
       "0          2            1  False  \n",
       "1          3            7   True  \n",
       "2          3            2  False  \n",
       "3          3            1  False  \n",
       "4          7            6   True  "
      ]
     },
     "execution_count": 12,
     "metadata": {},
     "output_type": "execute_result"
    }
   ],
   "source": [
    "customer_df.head()"
   ]
  },
  {
   "cell_type": "markdown",
   "id": "d38c7eea",
   "metadata": {},
   "source": [
    "# Create a new dataset merged_data by Merging the datasets transaction_details and customer_df"
   ]
  },
  {
   "cell_type": "code",
   "execution_count": 13,
   "id": "ed7415c2",
   "metadata": {},
   "outputs": [
    {
     "name": "stdout",
     "output_type": "stream",
     "text": [
      "               customerEmail       customerPhone        customerDevice  \\\n",
      "0     josephhoward@yahoo.com        400-108-5415  yyeiaxpltf82440jnb3v   \n",
      "1     evansjeffery@yahoo.com      1-788-091-7546  r0jpm7xaeqqa3kr6mzum   \n",
      "2  andersonwilliam@yahoo.com        024.420.0375  4m7h5ipl1shyavt6vv2r   \n",
      "3      rubenjuarez@yahoo.com  670.664.8168x94985  slovx60t0i558may4ks0   \n",
      "4           uchen@malone.com      1-981-877-0870  j0pd24k5h8dl2fqu0cz4   \n",
      "\n",
      "                         customerIPAddress  \\\n",
      "0                             8.129.104.40   \n",
      "1                          219.173.211.202   \n",
      "2  67b7:3db8:67e0:3bea:b9d0:90c1:2b60:b9f0   \n",
      "3  95de:8565:5a66:792c:26e0:6cfb:7d87:11af   \n",
      "4                           196.89.235.192   \n",
      "\n",
      "                              customerBillingAddress  No_Transactions  \\\n",
      "0            5493 Jones Islands\\nBrownside, CA 51896                2   \n",
      "1  356 Elizabeth Inlet Suite 120\\nPort Joshuabury...                3   \n",
      "2     8478 Sean Ridges Apt. 441\\nDavisberg, PR 72250                5   \n",
      "3  7769 Elizabeth Bridge Apt. 343\\nNortonstad, FM...                3   \n",
      "4  148 Russell Lodge Apt. 445\\nPort Jenniferside,...                7   \n",
      "\n",
      "   No_Orders  No_Payments  Fraud  \\\n",
      "0          2            1  False   \n",
      "1          3            7   True   \n",
      "2          3            2  False   \n",
      "3          3            1  False   \n",
      "4          7            6   True   \n",
      "\n",
      "                                       transactionId  transactionAmount  \\\n",
      "0                                 a9lcj51r, y4wcv03i               44.0   \n",
      "1                       5mi94sfw, br8ba1nu, a33145ss              111.0   \n",
      "2   q3lyvbza, 3alf9irw, 69w9wymx, pegqc4ud, uo3slwh7              131.0   \n",
      "3                       vx4cjc27, yiay9b0n, sn3v0ql2               85.0   \n",
      "4  q8j3dgni, xjulqy8x, rvm65vr1, kckrvagp, 2slep8...              411.0   \n",
      "\n",
      "   transactionFailed  \n",
      "0                0.0  \n",
      "1                1.0  \n",
      "2                2.0  \n",
      "3                0.0  \n",
      "4                2.0  \n"
     ]
    }
   ],
   "source": [
    "# Perform aggregation on transaction_details\n",
    "customer_transaction_aggregated = transaction_details.groupby('customerEmail').agg({\n",
    "    'transactionId': lambda x: ', '.join(x),\n",
    "    'transactionAmount': 'sum',\n",
    "    'transactionFailed': 'sum'\n",
    "}).reset_index()\n",
    "\n",
    "# Merge customer_transaction_aggregated with customer_df\n",
    "merged_data = pd.merge(customer_df, customer_transaction_aggregated, on='customerEmail', how='left')\n",
    "\n",
    "# Check the merged DataFrame\n",
    "print(merged_data.head())\n"
   ]
  },
  {
   "cell_type": "code",
   "execution_count": 14,
   "id": "ec5d03d0",
   "metadata": {},
   "outputs": [
    {
     "name": "stdout",
     "output_type": "stream",
     "text": [
      "               customerEmail       customerPhone        customerDevice  \\\n",
      "0     josephhoward@yahoo.com        400-108-5415  yyeiaxpltf82440jnb3v   \n",
      "1     evansjeffery@yahoo.com      1-788-091-7546  r0jpm7xaeqqa3kr6mzum   \n",
      "2  andersonwilliam@yahoo.com        024.420.0375  4m7h5ipl1shyavt6vv2r   \n",
      "3      rubenjuarez@yahoo.com  670.664.8168x94985  slovx60t0i558may4ks0   \n",
      "4           uchen@malone.com      1-981-877-0870  j0pd24k5h8dl2fqu0cz4   \n",
      "\n",
      "                         customerIPAddress  \\\n",
      "0                             8.129.104.40   \n",
      "1                          219.173.211.202   \n",
      "2  67b7:3db8:67e0:3bea:b9d0:90c1:2b60:b9f0   \n",
      "3  95de:8565:5a66:792c:26e0:6cfb:7d87:11af   \n",
      "4                           196.89.235.192   \n",
      "\n",
      "                              customerBillingAddress  No_Transactions  \\\n",
      "0            5493 Jones Islands\\nBrownside, CA 51896                2   \n",
      "1  356 Elizabeth Inlet Suite 120\\nPort Joshuabury...                3   \n",
      "2     8478 Sean Ridges Apt. 441\\nDavisberg, PR 72250                5   \n",
      "3  7769 Elizabeth Bridge Apt. 343\\nNortonstad, FM...                3   \n",
      "4  148 Russell Lodge Apt. 445\\nPort Jenniferside,...                7   \n",
      "\n",
      "   No_Orders  No_Payments                                      transactionId  \\\n",
      "0          2            1                                 a9lcj51r, y4wcv03i   \n",
      "1          3            7                       5mi94sfw, br8ba1nu, a33145ss   \n",
      "2          3            2   q3lyvbza, 3alf9irw, 69w9wymx, pegqc4ud, uo3slwh7   \n",
      "3          3            1                       vx4cjc27, yiay9b0n, sn3v0ql2   \n",
      "4          7            6  q8j3dgni, xjulqy8x, rvm65vr1, kckrvagp, 2slep8...   \n",
      "\n",
      "   transactionAmount  transactionFailed  Fraud  \n",
      "0               44.0                0.0  False  \n",
      "1              111.0                1.0   True  \n",
      "2              131.0                2.0  False  \n",
      "3               85.0                0.0  False  \n",
      "4              411.0                2.0   True  \n"
     ]
    }
   ],
   "source": [
    "# Drop the Fraud column from its current position\n",
    "merged_data.drop(columns=['Fraud'], inplace=True)\n",
    "\n",
    "# Re-add the Fraud column at the rightmost corner\n",
    "merged_data['Fraud'] = customer_df['Fraud']\n",
    "\n",
    "# Check the merged dataset\n",
    "print(merged_data.head())\n"
   ]
  },
  {
   "cell_type": "code",
   "execution_count": 15,
   "id": "fb450791",
   "metadata": {},
   "outputs": [
    {
     "data": {
      "text/plain": [
       "(168, 12)"
      ]
     },
     "execution_count": 15,
     "metadata": {},
     "output_type": "execute_result"
    }
   ],
   "source": [
    "merged_data.shape"
   ]
  },
  {
   "cell_type": "code",
   "execution_count": 16,
   "id": "5bb7a3c2",
   "metadata": {},
   "outputs": [
    {
     "name": "stdout",
     "output_type": "stream",
     "text": [
      "<class 'pandas.core.frame.DataFrame'>\n",
      "Int64Index: 168 entries, 0 to 167\n",
      "Data columns (total 12 columns):\n",
      " #   Column                  Non-Null Count  Dtype  \n",
      "---  ------                  --------------  -----  \n",
      " 0   customerEmail           168 non-null    object \n",
      " 1   customerPhone           168 non-null    object \n",
      " 2   customerDevice          168 non-null    object \n",
      " 3   customerIPAddress       168 non-null    object \n",
      " 4   customerBillingAddress  168 non-null    object \n",
      " 5   No_Transactions         168 non-null    int64  \n",
      " 6   No_Orders               168 non-null    int64  \n",
      " 7   No_Payments             168 non-null    int64  \n",
      " 8   transactionId           143 non-null    object \n",
      " 9   transactionAmount       143 non-null    float64\n",
      " 10  transactionFailed       143 non-null    float64\n",
      " 11  Fraud                   168 non-null    bool   \n",
      "dtypes: bool(1), float64(2), int64(3), object(6)\n",
      "memory usage: 15.9+ KB\n"
     ]
    }
   ],
   "source": [
    "merged_data.info()"
   ]
  },
  {
   "cell_type": "code",
   "execution_count": 17,
   "id": "d2a29b03",
   "metadata": {},
   "outputs": [],
   "source": [
    "#merged_data.to_csv('merged_data.csv', index=False)\n"
   ]
  },
  {
   "cell_type": "code",
   "execution_count": 18,
   "id": "c7087a46",
   "metadata": {},
   "outputs": [
    {
     "name": "stdout",
     "output_type": "stream",
     "text": [
      "Duplicate rows based on customerEmail:\n",
      "            customerEmail       customerPhone        customerDevice  \\\n",
      "40   johnlowery@gmail.com    737-377-9701x577  jz66ap43id2y35ivfqa5   \n",
      "45   johnlowery@gmail.com    +16(4)9016414340  cdx178qymd6vy77nm4x3   \n",
      "65   johnlowery@gmail.com         04712252182  311kdz4c1210iixltk2j   \n",
      "79   johnlowery@gmail.com  1-820-539-4726x993  2in0fh7lep289n8dcbdz   \n",
      "133  johnlowery@gmail.com      1-143-059-1833  tyijaify2hqadwslejyr   \n",
      "155  johnlowery@gmail.com  076-099-0630x72770  6qy6oa3nqutsyyxzc54c   \n",
      "165  johnlowery@gmail.com    635.676.0955x524  969zz9zdj8z4gns4sx5p   \n",
      "\n",
      "                           customerIPAddress  \\\n",
      "40   6c21:ac1d:2089:68fa:abb7:8c00:525f:6588   \n",
      "45                            222.79.159.140   \n",
      "65    42b3:df19:86fe:abd9:dafe:f6c1:eb76:c72   \n",
      "79                            163.128.139.42   \n",
      "133   e4c:fb48:8ee2:9819:6ae8:8d3f:3b6a:a788   \n",
      "155  f259:657f:f329:2fca:c06c:8b57:d6ac:2380   \n",
      "165   f82c:811f:8a02:e2d6:79b:fcaa:42de:570b   \n",
      "\n",
      "                                customerBillingAddress  No_Transactions  \\\n",
      "40   08238 Kyle Squares Suite 893\\nMillermouth, IN ...                0   \n",
      "45             77711 Pamela Ridge\\nNew Kayla, IL 27182                3   \n",
      "65   11704 Andrew Villages Apt. 035\\nJamesfurt, OR ...                7   \n",
      "79             814 Wagner Union\\nAshleymouth, HI 35617                2   \n",
      "133  518 Wood Mews Apt. 970\\nDillonstad, NE 43317-3945                0   \n",
      "155  687 Rogers Bridge Suite 780\\nValdezburgh, IN 2...                6   \n",
      "165           548 Bryant Inlet\\nVeronicaside, OK 00522                4   \n",
      "\n",
      "     No_Orders  No_Payments  \\\n",
      "40           0            1   \n",
      "45           2            1   \n",
      "65           5            1   \n",
      "79           2            1   \n",
      "133          0            0   \n",
      "155          5            3   \n",
      "165          4            2   \n",
      "\n",
      "                                         transactionId  transactionAmount  \\\n",
      "40   300mewnx, cfoevtai, kg0emdbe, crwqqfpi, u2xbyl...             1033.0   \n",
      "45   300mewnx, cfoevtai, kg0emdbe, crwqqfpi, u2xbyl...             1033.0   \n",
      "65   300mewnx, cfoevtai, kg0emdbe, crwqqfpi, u2xbyl...             1033.0   \n",
      "79   300mewnx, cfoevtai, kg0emdbe, crwqqfpi, u2xbyl...             1033.0   \n",
      "133  300mewnx, cfoevtai, kg0emdbe, crwqqfpi, u2xbyl...             1033.0   \n",
      "155  300mewnx, cfoevtai, kg0emdbe, crwqqfpi, u2xbyl...             1033.0   \n",
      "165  300mewnx, cfoevtai, kg0emdbe, crwqqfpi, u2xbyl...             1033.0   \n",
      "\n",
      "     transactionFailed  Fraud  \n",
      "40                 6.0   True  \n",
      "45                 6.0   True  \n",
      "65                 6.0   True  \n",
      "79                 6.0   True  \n",
      "133                6.0   True  \n",
      "155                6.0   True  \n",
      "165                6.0   True  \n"
     ]
    }
   ],
   "source": [
    "# Check for duplicates based on 'customerEmail' column\n",
    "duplicate_email_rows = merged_data[merged_data.duplicated(subset=['customerEmail'])]\n",
    "\n",
    "# Print the duplicate rows based on 'customerEmail'\n",
    "print(\"Duplicate rows based on customerEmail:\")\n",
    "print(duplicate_email_rows)\n"
   ]
  },
  {
   "cell_type": "markdown",
   "id": "38d4354d",
   "metadata": {},
   "source": [
    "# Dropping unnecessary columns"
   ]
  },
  {
   "cell_type": "code",
   "execution_count": 19,
   "id": "8e4d792f",
   "metadata": {},
   "outputs": [
    {
     "name": "stdout",
     "output_type": "stream",
     "text": [
      "   No_Transactions  No_Orders  No_Payments  transactionAmount  \\\n",
      "0                2          2            1               44.0   \n",
      "1                3          3            7              111.0   \n",
      "2                5          3            2              131.0   \n",
      "3                3          3            1               85.0   \n",
      "4                7          7            6              411.0   \n",
      "\n",
      "   transactionFailed  Fraud  \n",
      "0                0.0  False  \n",
      "1                1.0   True  \n",
      "2                2.0  False  \n",
      "3                0.0  False  \n",
      "4                2.0   True  \n"
     ]
    }
   ],
   "source": [
    "# List of columns to remove\n",
    "columns_to_remove = ['customerEmail','customerPhone', 'customerDevice', 'customerIPAddress', 'customerBillingAddress','transactionId']\n",
    "\n",
    "# Drop the columns from the DataFrame\n",
    "df = merged_data.drop(columns=columns_to_remove)\n",
    "\n",
    "# Check the resulting DataFrame\n",
    "print(df.head())\n"
   ]
  },
  {
   "cell_type": "code",
   "execution_count": 20,
   "id": "273a6b22",
   "metadata": {},
   "outputs": [
    {
     "name": "stdout",
     "output_type": "stream",
     "text": [
      "<class 'pandas.core.frame.DataFrame'>\n",
      "Int64Index: 168 entries, 0 to 167\n",
      "Data columns (total 6 columns):\n",
      " #   Column             Non-Null Count  Dtype  \n",
      "---  ------             --------------  -----  \n",
      " 0   No_Transactions    168 non-null    int64  \n",
      " 1   No_Orders          168 non-null    int64  \n",
      " 2   No_Payments        168 non-null    int64  \n",
      " 3   transactionAmount  143 non-null    float64\n",
      " 4   transactionFailed  143 non-null    float64\n",
      " 5   Fraud              168 non-null    bool   \n",
      "dtypes: bool(1), float64(2), int64(3)\n",
      "memory usage: 8.0 KB\n",
      "None\n"
     ]
    }
   ],
   "source": [
    "print(df.info())"
   ]
  },
  {
   "cell_type": "markdown",
   "id": "784b5bd6",
   "metadata": {},
   "source": [
    "# Handling missing values"
   ]
  },
  {
   "cell_type": "code",
   "execution_count": 21,
   "id": "11b736df",
   "metadata": {},
   "outputs": [],
   "source": [
    "\n",
    "# Impute missing values in transactionAmount and transactionFailed columns with their median\n",
    "df['transactionAmount'].fillna(df['transactionAmount'].median(), inplace=True)\n",
    "df['transactionFailed'].fillna(df['transactionFailed'].median(), inplace=True)\n"
   ]
  },
  {
   "cell_type": "code",
   "execution_count": 22,
   "id": "a76e81c3",
   "metadata": {},
   "outputs": [
    {
     "name": "stdout",
     "output_type": "stream",
     "text": [
      "<class 'pandas.core.frame.DataFrame'>\n",
      "Int64Index: 168 entries, 0 to 167\n",
      "Data columns (total 6 columns):\n",
      " #   Column             Non-Null Count  Dtype  \n",
      "---  ------             --------------  -----  \n",
      " 0   No_Transactions    168 non-null    int64  \n",
      " 1   No_Orders          168 non-null    int64  \n",
      " 2   No_Payments        168 non-null    int64  \n",
      " 3   transactionAmount  168 non-null    float64\n",
      " 4   transactionFailed  168 non-null    float64\n",
      " 5   Fraud              168 non-null    bool   \n",
      "dtypes: bool(1), float64(2), int64(3)\n",
      "memory usage: 8.0 KB\n",
      "None\n"
     ]
    }
   ],
   "source": [
    "print(df.info())"
   ]
  },
  {
   "cell_type": "markdown",
   "id": "2b6326a5",
   "metadata": {},
   "source": [
    "# EDA"
   ]
  },
  {
   "cell_type": "code",
   "execution_count": 23,
   "id": "c174e469",
   "metadata": {},
   "outputs": [
    {
     "data": {
      "image/png": "[encoded data removed]",
      "text/plain": [
       "<Figure size 1200x800 with 5 Axes>"
      ]
     },
     "metadata": {},
     "output_type": "display_data"
    }
   ],
   "source": [
    "# Define numerical features\n",
    "numerical_features = ['No_Transactions', 'No_Orders', 'No_Payments', 'transactionAmount', 'transactionFailed']\n",
    "\n",
    "# Plot histograms\n",
    "plt.figure(figsize=(12, 8))\n",
    "for i, feature in enumerate(numerical_features, 1):\n",
    "    plt.subplot(2, 3, i)\n",
    "    sns.histplot(df[feature], bins=20, kde=True)\n",
    "    plt.title(f'Distribution of {feature}')\n",
    "    plt.xlabel(feature)\n",
    "    plt.ylabel('Frequency')\n",
    "plt.tight_layout()\n",
    "plt.show()\n"
   ]
  },
  {
   "cell_type": "code",
   "execution_count": 24,
   "id": "fdd83c68",
   "metadata": {},
   "outputs": [
    {
     "name": "stdout",
     "output_type": "stream",
     "text": [
      "Number of fraudulent transactions: 61\n",
      "Number of non-fraudulent transactions: 107\n"
     ]
    }
   ],
   "source": [
    "# Count the number of fraudulent and non-fraudulent rows\n",
    "fraud_counts = df['Fraud'].value_counts()\n",
    "\n",
    "# Print the counts\n",
    "print(\"Number of fraudulent transactions:\", fraud_counts[True])\n",
    "print(\"Number of non-fraudulent transactions:\", fraud_counts[False])\n"
   ]
  },
  {
   "cell_type": "code",
   "execution_count": 25,
   "id": "dcfe2200",
   "metadata": {},
   "outputs": [
    {
     "data": {
      "image/png": "[encoded data removed]",
      "text/plain": [
       "<Figure size 600x400 with 1 Axes>"
      ]
     },
     "metadata": {},
     "output_type": "display_data"
    }
   ],
   "source": [
    "# Bar plot of Fraud counts\n",
    "plt.figure(figsize=(6, 4))\n",
    "sns.countplot(x='Fraud', data=df)\n",
    "plt.title('Fraudulent vs. Non-Fraudulent Transactions')\n",
    "plt.xlabel('Fraud')\n",
    "plt.ylabel('Count')\n",
    "plt.show()"
   ]
  },
  {
   "cell_type": "code",
   "execution_count": 26,
   "id": "23c606ca",
   "metadata": {},
   "outputs": [
    {
     "data": {
      "image/png": "[encoded data removed]",
      "text/plain": [
       "<Figure size 1200x800 with 5 Axes>"
      ]
     },
     "metadata": {},
     "output_type": "display_data"
    }
   ],
   "source": [
    "\n",
    "# Box plot of numerical features by Fraud\n",
    "plt.figure(figsize=(12, 8))\n",
    "for i, feature in enumerate(numerical_features, 1):\n",
    "    plt.subplot(2, 3, i)\n",
    "    sns.boxplot(x='Fraud', y=feature, data=df)\n",
    "    plt.title(f'{feature} by Fraud')\n",
    "    plt.xlabel('Fraud')\n",
    "    plt.ylabel(feature)\n",
    "plt.tight_layout()\n",
    "plt.show()"
   ]
  },
  {
   "cell_type": "code",
   "execution_count": 1,
   "id": "d76d35c6",
   "metadata": {},
   "outputs": [
    {
     "ename": "NameError",
     "evalue": "name 'df' is not defined",
     "output_type": "error",
     "traceback": [
      "\u001b[1;31m---------------------------------------------------------------------------\u001b[0m",
      "\u001b[1;31mNameError\u001b[0m                                 Traceback (most recent call last)",
      "Cell \u001b[1;32mIn[1], line 4\u001b[0m\n\u001b[0;32m      1\u001b[0m \u001b[38;5;66;03m# prints data that will be plotted \u001b[39;00m\n\u001b[0;32m      2\u001b[0m \u001b[38;5;66;03m# columns shown here are selected by corr() since \u001b[39;00m\n\u001b[0;32m      3\u001b[0m \u001b[38;5;66;03m# they are ideal for the plot \u001b[39;00m\n\u001b[1;32m----> 4\u001b[0m \u001b[38;5;28mprint\u001b[39m(df\u001b[38;5;241m.\u001b[39mcorr()) \n\u001b[0;32m      6\u001b[0m \u001b[38;5;66;03m# plotting correlation heatmap \u001b[39;00m\n\u001b[0;32m      7\u001b[0m dataplot \u001b[38;5;241m=\u001b[39m sns\u001b[38;5;241m.\u001b[39mheatmap(df\u001b[38;5;241m.\u001b[39mcorr(), cmap\u001b[38;5;241m=\u001b[39m\u001b[38;5;124m\"\u001b[39m\u001b[38;5;124mYlGnBu\u001b[39m\u001b[38;5;124m\"\u001b[39m, annot\u001b[38;5;241m=\u001b[39m\u001b[38;5;28;01mTrue\u001b[39;00m) \n",
      "\u001b[1;31mNameError\u001b[0m: name 'df' is not defined"
     ]
    }
   ],
   "source": [
    "# prints data that will be plotted \n",
    "# columns shown here are selected by corr() since \n",
    "# they are ideal for the plot \n",
    "print(df.corr()) \n",
    "  \n",
    "# plotting correlation heatmap \n",
    "dataplot = sns.heatmap(df.corr(), cmap=\"YlGnBu\", annot=True) \n",
    "  \n",
    "# displaying heatmap \n",
    "plt.show() \n"
   ]
  },
  {
   "cell_type": "code",
   "execution_count": null,
   "id": "164611c2",
   "metadata": {},
   "outputs": [],
   "source": [
    "# Scatter plot of numerical features by Fraud\n",
    "plt.figure(figsize=(12, 8))\n",
    "for i, feature in enumerate(numerical_features, 1):\n",
    "    plt.subplot(2, 3, i)\n",
    "    sns.scatterplot(x='Fraud', y=feature, data=df)\n",
    "    plt.title(f'{feature} by Fraud')\n",
    "    plt.xlabel('Fraud')\n",
    "    plt.ylabel(feature)\n",
    "plt.tight_layout()\n",
    "plt.show()"
   ]
  },
  {
   "cell_type": "code",
   "execution_count": null,
   "id": "dbfe971f",
   "metadata": {},
   "outputs": [],
   "source": [
    "# Pairplot of selected columns\n",
    "selected_columns = ['No_Transactions', 'No_Orders', 'No_Payments', 'transactionAmount', 'transactionFailed', 'Fraud']\n",
    "dataplot = sns.pairplot(df[selected_columns], hue='Fraud', palette='husl')\n",
    "plt.show()"
   ]
  },
  {
   "cell_type": "code",
   "execution_count": 28,
   "id": "e1a44092",
   "metadata": {},
   "outputs": [],
   "source": [
    "# Define numerical features\n",
    "numerical_features = ['No_Transactions', 'No_Orders', 'No_Payments', 'transactionAmount', 'transactionFailed']\n",
    "\n",
    "# Scale numerical features\n",
    "scaler = StandardScaler()\n",
    "df[numerical_features] = scaler.fit_transform(df[numerical_features])"
   ]
  },
  {
   "cell_type": "markdown",
   "id": "5cef2558",
   "metadata": {},
   "source": [
    "# Model Architecture"
   ]
  },
  {
   "cell_type": "code",
   "execution_count": null,
   "id": "e5104b79",
   "metadata": {},
   "outputs": [],
   "source": [
    "X_train.shape[1]"
   ]
  },
  {
   "cell_type": "code",
   "execution_count": 45,
   "id": "3003b339",
   "metadata": {},
   "outputs": [],
   "source": [
    "# Define the features and target variable\n",
    "X = df.drop(columns=['Fraud'])\n",
    "y = df['Fraud']\n",
    "\n",
    "\n",
    "# Perform oversampling to address class imbalance\n",
    "ros = RandomOverSampler(random_state=42)\n",
    "X_resampled, y_resampled = ros.fit_resample(X, y)\n",
    "\n",
    "# Split the data into training and testing sets\n",
    "X_train, X_test, y_train, y_test = train_test_split(X_resampled, y_resampled, test_size=0.2, random_state=42)\n",
    "\n",
    "model = Sequential([\n",
    "    Dense(128, activation='relu', input_shape=(X_train.shape[1],)),\n",
    "    Dropout(0.3),\n",
    "    Dense(64, activation='relu'),\n",
    "    Dropout(0.3),\n",
    "    Dense(32, activation='relu'),\n",
    "    Dropout(0.3),\n",
    "    Dense(1, activation='sigmoid')\n",
    "])\n",
    "# Compile the model\n",
    "model.compile(optimizer=Adam(learning_rate=0.01), loss='binary_crossentropy', metrics=['accuracy'])\n"
   ]
  },
  {
   "cell_type": "markdown",
   "id": "fc5d16e0",
   "metadata": {},
   "source": [
    "# Model Training"
   ]
  },
  {
   "cell_type": "code",
   "execution_count": 46,
   "id": "83c33c63",
   "metadata": {},
   "outputs": [
    {
     "name": "stdout",
     "output_type": "stream",
     "text": [
      "Epoch 1/50\n",
      "5/5 [==============================] - 3s 123ms/step - loss: 0.7225 - accuracy: 0.5735 - val_loss: 0.5784 - val_accuracy: 0.7143\n",
      "Epoch 2/50\n",
      "5/5 [==============================] - 0s 24ms/step - loss: 0.5831 - accuracy: 0.6618 - val_loss: 0.5420 - val_accuracy: 0.7143\n",
      "Epoch 3/50\n",
      "5/5 [==============================] - 0s 21ms/step - loss: 0.5072 - accuracy: 0.7279 - val_loss: 0.5147 - val_accuracy: 0.7143\n",
      "Epoch 4/50\n",
      "5/5 [==============================] - 0s 23ms/step - loss: 0.5668 - accuracy: 0.6912 - val_loss: 0.4972 - val_accuracy: 0.7143\n",
      "Epoch 5/50\n",
      "5/5 [==============================] - 0s 23ms/step - loss: 0.5033 - accuracy: 0.7059 - val_loss: 0.4755 - val_accuracy: 0.7143\n",
      "Epoch 6/50\n",
      "5/5 [==============================] - 0s 23ms/step - loss: 0.4915 - accuracy: 0.7574 - val_loss: 0.4504 - val_accuracy: 0.7714\n",
      "Epoch 7/50\n",
      "5/5 [==============================] - 0s 25ms/step - loss: 0.4748 - accuracy: 0.7794 - val_loss: 0.4500 - val_accuracy: 0.8000\n",
      "Epoch 8/50\n",
      "5/5 [==============================] - 0s 20ms/step - loss: 0.5098 - accuracy: 0.7500 - val_loss: 0.4846 - val_accuracy: 0.8286\n",
      "Epoch 9/50\n",
      "5/5 [==============================] - 0s 27ms/step - loss: 0.5037 - accuracy: 0.7647 - val_loss: 0.4955 - val_accuracy: 0.8000\n",
      "Epoch 10/50\n",
      "5/5 [==============================] - 0s 24ms/step - loss: 0.5311 - accuracy: 0.7353 - val_loss: 0.4641 - val_accuracy: 0.8000\n",
      "Epoch 11/50\n",
      "5/5 [==============================] - 0s 24ms/step - loss: 0.5084 - accuracy: 0.7574 - val_loss: 0.4423 - val_accuracy: 0.7714\n",
      "Epoch 12/50\n",
      "5/5 [==============================] - 0s 23ms/step - loss: 0.4812 - accuracy: 0.7868 - val_loss: 0.4306 - val_accuracy: 0.8000\n",
      "Epoch 13/50\n",
      "5/5 [==============================] - 0s 24ms/step - loss: 0.4862 - accuracy: 0.7206 - val_loss: 0.4256 - val_accuracy: 0.8286\n",
      "Epoch 14/50\n",
      "5/5 [==============================] - 0s 23ms/step - loss: 0.4738 - accuracy: 0.7721 - val_loss: 0.4210 - val_accuracy: 0.8286\n",
      "Epoch 15/50\n",
      "5/5 [==============================] - 0s 24ms/step - loss: 0.4791 - accuracy: 0.7794 - val_loss: 0.4234 - val_accuracy: 0.8000\n",
      "Epoch 16/50\n",
      "5/5 [==============================] - 0s 23ms/step - loss: 0.4522 - accuracy: 0.7721 - val_loss: 0.4250 - val_accuracy: 0.8000\n",
      "Epoch 17/50\n",
      "5/5 [==============================] - 0s 24ms/step - loss: 0.4348 - accuracy: 0.7794 - val_loss: 0.4258 - val_accuracy: 0.7714\n",
      "Epoch 18/50\n",
      "5/5 [==============================] - 0s 28ms/step - loss: 0.4799 - accuracy: 0.7647 - val_loss: 0.4146 - val_accuracy: 0.8000\n",
      "Epoch 19/50\n",
      "5/5 [==============================] - 0s 24ms/step - loss: 0.4739 - accuracy: 0.7647 - val_loss: 0.3991 - val_accuracy: 0.8000\n",
      "Epoch 20/50\n",
      "5/5 [==============================] - 0s 23ms/step - loss: 0.4706 - accuracy: 0.7794 - val_loss: 0.3994 - val_accuracy: 0.8286\n",
      "Epoch 21/50\n",
      "5/5 [==============================] - 0s 22ms/step - loss: 0.4551 - accuracy: 0.7500 - val_loss: 0.3944 - val_accuracy: 0.8286\n",
      "Epoch 22/50\n",
      "5/5 [==============================] - 0s 24ms/step - loss: 0.4231 - accuracy: 0.8015 - val_loss: 0.3977 - val_accuracy: 0.8286\n",
      "Epoch 23/50\n",
      "5/5 [==============================] - 0s 25ms/step - loss: 0.4375 - accuracy: 0.8162 - val_loss: 0.4113 - val_accuracy: 0.8286\n",
      "Epoch 24/50\n",
      "5/5 [==============================] - 0s 21ms/step - loss: 0.4507 - accuracy: 0.7647 - val_loss: 0.4176 - val_accuracy: 0.8571\n",
      "Epoch 25/50\n",
      "5/5 [==============================] - 0s 22ms/step - loss: 0.4359 - accuracy: 0.8162 - val_loss: 0.3938 - val_accuracy: 0.8286\n",
      "Epoch 26/50\n",
      "5/5 [==============================] - 0s 22ms/step - loss: 0.4473 - accuracy: 0.7721 - val_loss: 0.3795 - val_accuracy: 0.8286\n",
      "Epoch 27/50\n",
      "5/5 [==============================] - 0s 21ms/step - loss: 0.4237 - accuracy: 0.7647 - val_loss: 0.3794 - val_accuracy: 0.8571\n",
      "Epoch 28/50\n",
      "5/5 [==============================] - 0s 22ms/step - loss: 0.4401 - accuracy: 0.7941 - val_loss: 0.3771 - val_accuracy: 0.8571\n",
      "Epoch 29/50\n",
      "5/5 [==============================] - 0s 23ms/step - loss: 0.4635 - accuracy: 0.7868 - val_loss: 0.3862 - val_accuracy: 0.8571\n",
      "Epoch 30/50\n",
      "5/5 [==============================] - 0s 22ms/step - loss: 0.4416 - accuracy: 0.8088 - val_loss: 0.3814 - val_accuracy: 0.8286\n",
      "Epoch 31/50\n",
      "5/5 [==============================] - 0s 24ms/step - loss: 0.4390 - accuracy: 0.8235 - val_loss: 0.3822 - val_accuracy: 0.8286\n",
      "Epoch 32/50\n",
      "5/5 [==============================] - 0s 23ms/step - loss: 0.4563 - accuracy: 0.8015 - val_loss: 0.3869 - val_accuracy: 0.8286\n",
      "Epoch 33/50\n",
      "5/5 [==============================] - 0s 24ms/step - loss: 0.4531 - accuracy: 0.7941 - val_loss: 0.3926 - val_accuracy: 0.8286\n",
      "Epoch 34/50\n",
      "5/5 [==============================] - 0s 23ms/step - loss: 0.4597 - accuracy: 0.7941 - val_loss: 0.4039 - val_accuracy: 0.8286\n",
      "Epoch 35/50\n",
      "5/5 [==============================] - 0s 26ms/step - loss: 0.4727 - accuracy: 0.7794 - val_loss: 0.4147 - val_accuracy: 0.8000\n",
      "Epoch 36/50\n",
      "5/5 [==============================] - 0s 21ms/step - loss: 0.4311 - accuracy: 0.7941 - val_loss: 0.4194 - val_accuracy: 0.7714\n",
      "Epoch 37/50\n",
      "5/5 [==============================] - 0s 21ms/step - loss: 0.4550 - accuracy: 0.7941 - val_loss: 0.4145 - val_accuracy: 0.8000\n",
      "Epoch 38/50\n",
      "5/5 [==============================] - 0s 22ms/step - loss: 0.3926 - accuracy: 0.8162 - val_loss: 0.4039 - val_accuracy: 0.8000\n",
      "Epoch 39/50\n",
      "5/5 [==============================] - 0s 23ms/step - loss: 0.4506 - accuracy: 0.7868 - val_loss: 0.4073 - val_accuracy: 0.8000\n",
      "Epoch 40/50\n",
      "5/5 [==============================] - 0s 23ms/step - loss: 0.4452 - accuracy: 0.7941 - val_loss: 0.4079 - val_accuracy: 0.8286\n",
      "Epoch 41/50\n",
      "5/5 [==============================] - 0s 26ms/step - loss: 0.4432 - accuracy: 0.7721 - val_loss: 0.4056 - val_accuracy: 0.8286\n",
      "Epoch 42/50\n",
      "5/5 [==============================] - 0s 26ms/step - loss: 0.3972 - accuracy: 0.8162 - val_loss: 0.4079 - val_accuracy: 0.8286\n",
      "Epoch 43/50\n",
      "5/5 [==============================] - 0s 31ms/step - loss: 0.4362 - accuracy: 0.7868 - val_loss: 0.4119 - val_accuracy: 0.8286\n",
      "Epoch 44/50\n",
      "5/5 [==============================] - 0s 28ms/step - loss: 0.4171 - accuracy: 0.8015 - val_loss: 0.3965 - val_accuracy: 0.8286\n",
      "Epoch 45/50\n",
      "5/5 [==============================] - 0s 26ms/step - loss: 0.4218 - accuracy: 0.8088 - val_loss: 0.3883 - val_accuracy: 0.8286\n",
      "Epoch 46/50\n",
      "5/5 [==============================] - 0s 25ms/step - loss: 0.4159 - accuracy: 0.8309 - val_loss: 0.3830 - val_accuracy: 0.8286\n",
      "Epoch 47/50\n",
      "5/5 [==============================] - 0s 25ms/step - loss: 0.3956 - accuracy: 0.8162 - val_loss: 0.3720 - val_accuracy: 0.8286\n",
      "Epoch 48/50\n",
      "5/5 [==============================] - 0s 26ms/step - loss: 0.4062 - accuracy: 0.8382 - val_loss: 0.3785 - val_accuracy: 0.8286\n",
      "Epoch 49/50\n",
      "5/5 [==============================] - 0s 27ms/step - loss: 0.4159 - accuracy: 0.7941 - val_loss: 0.3958 - val_accuracy: 0.8286\n",
      "Epoch 50/50\n",
      "5/5 [==============================] - 0s 25ms/step - loss: 0.3746 - accuracy: 0.8235 - val_loss: 0.3985 - val_accuracy: 0.8286\n"
     ]
    }
   ],
   "source": [
    "# Train the model\n",
    "history = model.fit(X_train, y_train, epochs=50, batch_size=32, validation_split=0.2)\n"
   ]
  },
  {
   "cell_type": "markdown",
   "id": "05184372",
   "metadata": {},
   "source": [
    "# Model accuracy on test dataset"
   ]
  },
  {
   "cell_type": "code",
   "execution_count": 47,
   "id": "0105ee46",
   "metadata": {},
   "outputs": [
    {
     "name": "stdout",
     "output_type": "stream",
     "text": [
      "2/2 [==============================] - 0s 12ms/step - loss: 0.3021 - accuracy: 0.8837\n",
      "Test Accuracy: 0.8837209343910217\n"
     ]
    }
   ],
   "source": [
    "# Evaluate the model on test data\n",
    "loss, accuracy = model.evaluate(X_test, y_test)\n",
    "print(\"Test Accuracy:\", accuracy)\n"
   ]
  },
  {
   "cell_type": "markdown",
   "id": "6e5ffc33",
   "metadata": {},
   "source": [
    "# Neural Network achieved the highest accuracy score of approximately 88.37% on the test data. "
   ]
  },
  {
   "cell_type": "code",
   "execution_count": 48,
   "id": "7d0b191f",
   "metadata": {},
   "outputs": [
    {
     "data": {
      "image/png": "[encoded data removed]",
      "text/plain": [
       "<Figure size 640x480 with 1 Axes>"
      ]
     },
     "metadata": {},
     "output_type": "display_data"
    }
   ],
   "source": [
    "# Plot training history\n",
    "plt.plot(history.history['accuracy'], label='Train Accuracy')\n",
    "plt.plot(history.history['val_accuracy'], label='Validation Accuracy')\n",
    "plt.xlabel('Epoch')\n",
    "plt.ylabel('Accuracy')\n",
    "plt.legend()\n",
    "plt.show()\n"
   ]
  },
  {
   "cell_type": "code",
   "execution_count": null,
   "id": "6c030013",
   "metadata": {},
   "outputs": [],
   "source": []
  },
  {
   "cell_type": "code",
   "execution_count": null,
   "id": "75588b28",
   "metadata": {},
   "outputs": [],
   "source": []
  }
 ],
 "metadata": {
  "kernelspec": {
   "display_name": "Python 3 (ipykernel)",
   "language": "python",
   "name": "python3"
  },
  "language_info": {
   "codemirror_mode": {
    "name": "ipython",
    "version": 3
   },
   "file_extension": ".py",
   "mimetype": "text/x-python",
   "name": "python",
   "nbconvert_exporter": "python",
   "pygments_lexer": "ipython3",
   "version": "3.11.3"
  }
 },
 "nbformat": 4,
 "nbformat_minor": 5
}
